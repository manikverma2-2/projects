{
  "nbformat": 4,
  "nbformat_minor": 0,
  "metadata": {
    "colab": {
      "provenance": [],
      "include_colab_link": true
    },
    "kernelspec": {
      "name": "python3",
      "display_name": "Python 3"
    },
    "language_info": {
      "name": "python"
    }
  },
  "cells": [
    {
      "cell_type": "markdown",
      "metadata": {
        "id": "view-in-github",
        "colab_type": "text"
      },
      "source": [
        "<a href=\"https://colab.research.google.com/github/manikverma2-2/projects/blob/main/01_01_basic_chat.ipynb\" target=\"_parent\"><img src=\"https://colab.research.google.com/assets/colab-badge.svg\" alt=\"Open In Colab\"/></a>"
      ]
    },
    {
      "cell_type": "code",
      "source": [
        "!python3 --version\n",
        "# !pip list\n",
        "!pip install -q langchain langchain_groq"
      ],
      "metadata": {
        "colab": {
          "base_uri": "https://localhost:8080/"
        },
        "id": "CW32JPw9kaRX",
        "outputId": "46e75eac-7d5e-4b4b-df89-c3e88c4c3061"
      },
      "execution_count": 1,
      "outputs": [
        {
          "output_type": "stream",
          "name": "stdout",
          "text": [
            "Python 3.11.13\n",
            "\u001b[2K   \u001b[90m━━━━━━━━━━━━━━━━━━━━━━━━━━━━━━━━━━━━━━━━\u001b[0m \u001b[32m130.8/130.8 kB\u001b[0m \u001b[31m6.4 MB/s\u001b[0m eta \u001b[36m0:00:00\u001b[0m\n",
            "\u001b[?25h"
          ]
        }
      ]
    },
    {
      "cell_type": "code",
      "source": [
        "from google.colab import userdata\n",
        "from langchain_groq import ChatGroq\n",
        "from langchain_core.messages import HumanMessage, SystemMessage\n",
        "from langchain_core.prompts import ChatPromptTemplate\n",
        "from langchain_core.output_parsers import StrOutputParser\n",
        "import os\n",
        "os.environ['GROQ_API_KEY'] = userdata.get('groq')"
      ],
      "metadata": {
        "id": "q7kAK3SpMa0-"
      },
      "execution_count": 2,
      "outputs": []
    },
    {
      "cell_type": "code",
      "source": [
        "model = ChatGroq(model=\"llama-3.3-70b-versatile\", temperature=0)\n",
        "# print(model.model_name)\n",
        "# print(model.temperature)\n",
        "# print(f\"{1e-08:.8f}\")"
      ],
      "metadata": {
        "id": "SZ5DRuOJMsod"
      },
      "execution_count": 3,
      "outputs": []
    },
    {
      "cell_type": "code",
      "source": [
        "message = [\n",
        "    SystemMessage(content=\"Translate the following from English into Hindi\"),\n",
        "    HumanMessage(\"What is your name?\"),\n",
        "]\n",
        "response = model.invoke(message)\n",
        "print(response)"
      ],
      "metadata": {
        "colab": {
          "base_uri": "https://localhost:8080/"
        },
        "id": "NvRYr0scNrZK",
        "outputId": "ebc7e228-d9d2-487b-dbc2-3d3cf29d55b7"
      },
      "execution_count": 4,
      "outputs": [
        {
          "output_type": "stream",
          "name": "stdout",
          "text": [
            "content='आपका नाम क्या है?' additional_kwargs={} response_metadata={'token_usage': {'completion_tokens': 11, 'prompt_tokens': 47, 'total_tokens': 58, 'completion_time': 0.04, 'prompt_time': 0.002127649, 'queue_time': 0.239667999, 'total_time': 0.042127649}, 'model_name': 'llama-3.3-70b-versatile', 'system_fingerprint': 'fp_9a8b91ba77', 'finish_reason': 'stop', 'logprobs': None} id='run--ac0f2725-fd1a-4558-9e10-5b7cabe909cd-0' usage_metadata={'input_tokens': 47, 'output_tokens': 11, 'total_tokens': 58}\n"
          ]
        }
      ]
    },
    {
      "cell_type": "code",
      "source": [
        "prompt = ChatPromptTemplate.from_messages([\n",
        "    (\"system\", \"Translate the following from English into {output_language}\"),\n",
        "    (\"human\", \"{text}\"),\n",
        "])\n",
        "print(prompt)\n",
        "user_input = input(\"Enter text to translate: \")\n",
        "output_language = input(\"Enter output language: \")\n",
        "# print(prompt.invoke({\"text\": user_input, \"output_language\": output_language}))\n",
        "\n",
        "chain = prompt | model | StrOutputParser()\n",
        "\n",
        "response = chain.invoke({\"text\": user_input, \"output_language\": output_language})\n",
        "print(response)\n",
        "\n",
        "output_language = input(\"Enter output language: \")\n",
        "response = chain.invoke({\"text\": user_input, \"output_language\": output_language})\n",
        "print(response)\n",
        "output_language = input(\"Enter output language: \")\n",
        "response = chain.invoke({\"text\": user_input, \"output_language\": output_language})\n",
        "print(response)"
      ],
      "metadata": {
        "colab": {
          "base_uri": "https://localhost:8080/"
        },
        "id": "Zvdty10vQQaA",
        "outputId": "9c65cc58-1a5e-4996-b98b-a47f996c084d"
      },
      "execution_count": 5,
      "outputs": [
        {
          "output_type": "stream",
          "name": "stdout",
          "text": [
            "input_variables=['output_language', 'text'] input_types={} partial_variables={} messages=[SystemMessagePromptTemplate(prompt=PromptTemplate(input_variables=['output_language'], input_types={}, partial_variables={}, template='Translate the following from English into {output_language}'), additional_kwargs={}), HumanMessagePromptTemplate(prompt=PromptTemplate(input_variables=['text'], input_types={}, partial_variables={}, template='{text}'), additional_kwargs={})]\n",
            "Enter text to translate: How are you today?\n",
            "Enter output language: Spanish\n",
            "¿Cómo estás hoy?\n",
            "Enter output language: Hindi\n",
            "आज आप कैसे हैं?\n",
            "Enter output language: Urdu\n",
            "آج آپ کیسے ہیں؟\n"
          ]
        }
      ]
    },
    {
      "cell_type": "code",
      "source": [
        "from google.colab import drive\n",
        "drive.mount('/content/drive')"
      ],
      "metadata": {
        "id": "d0nxT_afczZq",
        "colab": {
          "base_uri": "https://localhost:8080/"
        },
        "outputId": "d0af10ae-b36b-478d-ab4c-431daf596f7e"
      },
      "execution_count": 9,
      "outputs": [
        {
          "output_type": "stream",
          "name": "stdout",
          "text": [
            "Mounted at /content/drive\n"
          ]
        }
      ]
    },
    {
      "cell_type": "code",
      "source": [
        "''"
      ],
      "metadata": {
        "id": "0jU2gW3LWZZ1"
      },
      "execution_count": null,
      "outputs": []
    }
  ]
}